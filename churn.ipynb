{
  "nbformat": 4,
  "nbformat_minor": 0,
  "metadata": {
    "colab": {
      "name": "churn.ipynb",
      "provenance": [],
      "collapsed_sections": [],
      "toc_visible": true,
      "authorship_tag": "ABX9TyN8aHJIPPuYh/SD0GRK0Ik8"
    },
    "kernelspec": {
      "name": "python3",
      "display_name": "Python 3"
    }
  },
  "cells": [
    {
      "cell_type": "markdown",
      "metadata": {
        "id": "U0xpls63SQra",
        "colab_type": "text"
      },
      "source": [
        "# Churn rate"
      ]
    },
    {
      "cell_type": "markdown",
      "metadata": {
        "id": "1971HG29SLda",
        "colab_type": "text"
      },
      "source": [
        "Problem domain: predict behavior to retain customers.\n",
        "\n",
        "Data source: https://www.kaggle.com/blastchar/telco-customer-churn"
      ]
    },
    {
      "cell_type": "code",
      "metadata": {
        "id": "wGISuim9ZNL4",
        "colab_type": "code",
        "colab": {}
      },
      "source": [
        "# Import libraries\n",
        "import json # access data\n",
        "import numpy as np # linear algebra\n",
        "import pandas as pd # data processing \n",
        "import matplotlib.pyplot as plt # plot graph \n",
        "import seaborn as sns # plot interactive graph\n",
        "import warnings\n",
        "warnings.filterwarnings(\"ignore\")\n",
        "\n",
        "from pylab import rcParams\n",
        "%matplotlib inline\n"
      ],
      "execution_count": 0,
      "outputs": []
    },
    {
      "cell_type": "markdown",
      "metadata": {
        "id": "bJUUDGi2bSPw",
        "colab_type": "text"
      },
      "source": [
        "### Access the data"
      ]
    },
    {
      "cell_type": "code",
      "metadata": {
        "id": "ph-KP6B9DCxh",
        "colab_type": "code",
        "outputId": "0d10edb0-6e77-4af2-ba1d-ac709a32281f",
        "colab": {
          "base_uri": "https://localhost:8080/",
          "height": 230
        }
      },
      "source": [
        "!pip install kaggle\n",
        "!mkdir ~/.kaggle\n",
        "!touch '/root/.kaggle/kaggle.json'\n",
        "######################################################################################\n",
        "# Type Kaggle username and api key\n",
        "# api_token = {\"username\":\"username\",\"key\":\"TOKEN_HERE\"}\n",
        "\n",
        "\n",
        "api_token = {\"username\":\" \",\"key\":\" \"}    \n",
        "######################################################################################\n",
        "\n",
        "\n",
        "with open('/root/.kaggle/kaggle.json', 'w') as file:\n",
        "    json.dump(api_token, file)\n",
        "\n",
        "!chmod 600 /root/.kaggle/kaggle.json"
      ],
      "execution_count": 0,
      "outputs": [
        {
          "output_type": "stream",
          "text": [
            "Requirement already satisfied: kaggle in /usr/local/lib/python3.6/dist-packages (1.5.6)\n",
            "Requirement already satisfied: certifi in /usr/local/lib/python3.6/dist-packages (from kaggle) (2019.11.28)\n",
            "Requirement already satisfied: tqdm in /usr/local/lib/python3.6/dist-packages (from kaggle) (4.28.1)\n",
            "Requirement already satisfied: requests in /usr/local/lib/python3.6/dist-packages (from kaggle) (2.21.0)\n",
            "Requirement already satisfied: python-slugify in /usr/local/lib/python3.6/dist-packages (from kaggle) (4.0.0)\n",
            "Requirement already satisfied: python-dateutil in /usr/local/lib/python3.6/dist-packages (from kaggle) (2.6.1)\n",
            "Requirement already satisfied: urllib3<1.25,>=1.21.1 in /usr/local/lib/python3.6/dist-packages (from kaggle) (1.24.3)\n",
            "Requirement already satisfied: six>=1.10 in /usr/local/lib/python3.6/dist-packages (from kaggle) (1.12.0)\n",
            "Requirement already satisfied: chardet<3.1.0,>=3.0.2 in /usr/local/lib/python3.6/dist-packages (from requests->kaggle) (3.0.4)\n",
            "Requirement already satisfied: idna<2.9,>=2.5 in /usr/local/lib/python3.6/dist-packages (from requests->kaggle) (2.8)\n",
            "Requirement already satisfied: text-unidecode>=1.3 in /usr/local/lib/python3.6/dist-packages (from python-slugify->kaggle) (1.3)\n"
          ],
          "name": "stdout"
        }
      ]
    },
    {
      "cell_type": "code",
      "metadata": {
        "id": "h6bXGvdlDLhu",
        "colab_type": "code",
        "outputId": "b5dfd46f-ca76-420e-b016-44b4d9db8a0c",
        "colab": {
          "base_uri": "https://localhost:8080/",
          "height": 70
        }
      },
      "source": [
        "# Dataset download\n",
        "!kaggle datasets download -d blastchar/telco-customer-churn"
      ],
      "execution_count": 0,
      "outputs": [
        {
          "output_type": "stream",
          "text": [
            "Downloading telco-customer-churn.zip to /content\n",
            "\r  0% 0.00/172k [00:00<?, ?B/s]\n",
            "\r100% 172k/172k [00:00<00:00, 52.5MB/s]\n"
          ],
          "name": "stdout"
        }
      ]
    },
    {
      "cell_type": "code",
      "metadata": {
        "id": "3Lhbknp-LR2T",
        "colab_type": "code",
        "outputId": "d9073eb7-075c-4c7a-c418-2f4c6040b476",
        "colab": {
          "base_uri": "https://localhost:8080/",
          "height": 52
        }
      },
      "source": [
        "# Decompress the files in zip format\n",
        "!unzip telco-customer-churn.zip"
      ],
      "execution_count": 0,
      "outputs": [
        {
          "output_type": "stream",
          "text": [
            "Archive:  telco-customer-churn.zip\n",
            "  inflating: WA_Fn-UseC_-Telco-Customer-Churn.csv  \n"
          ],
          "name": "stdout"
        }
      ]
    },
    {
      "cell_type": "code",
      "metadata": {
        "id": "h7Xvgb0QE2Gd",
        "colab_type": "code",
        "outputId": "85c87c7d-d85a-4d19-c61e-57e09717e35f",
        "colab": {
          "base_uri": "https://localhost:8080/",
          "height": 34
        }
      },
      "source": [
        "# Verify the files available\n",
        "!ls"
      ],
      "execution_count": 0,
      "outputs": [
        {
          "output_type": "stream",
          "text": [
            "sample_data  telco-customer-churn.zip  WA_Fn-UseC_-Telco-Customer-Churn.csv\n"
          ],
          "name": "stdout"
        }
      ]
    },
    {
      "cell_type": "code",
      "metadata": {
        "id": "vcjBN4xRZa9E",
        "colab_type": "code",
        "colab": {}
      },
      "source": [
        "# read file\n",
        "data = pd.read_csv('WA_Fn-UseC_-Telco-Customer-Churn.csv')#, header = 0, index_col = 0) "
      ],
      "execution_count": 0,
      "outputs": []
    },
    {
      "cell_type": "markdown",
      "metadata": {
        "id": "O5PjLJutfvAj",
        "colab_type": "text"
      },
      "source": [
        "### Exploratory Data Analysis (EDA)"
      ]
    },
    {
      "cell_type": "code",
      "metadata": {
        "id": "RRlBx7VMah0Y",
        "colab_type": "code",
        "outputId": "7e9b5ebd-6393-4817-cf66-55179f01c199",
        "colab": {
          "base_uri": "https://localhost:8080/",
          "height": 282
        }
      },
      "source": [
        "# Show the first five lines of dataset\n",
        "data.head()"
      ],
      "execution_count": 0,
      "outputs": [
        {
          "output_type": "execute_result",
          "data": {
            "text/html": [
              "<div>\n",
              "<style scoped>\n",
              "    .dataframe tbody tr th:only-of-type {\n",
              "        vertical-align: middle;\n",
              "    }\n",
              "\n",
              "    .dataframe tbody tr th {\n",
              "        vertical-align: top;\n",
              "    }\n",
              "\n",
              "    .dataframe thead th {\n",
              "        text-align: right;\n",
              "    }\n",
              "</style>\n",
              "<table border=\"1\" class=\"dataframe\">\n",
              "  <thead>\n",
              "    <tr style=\"text-align: right;\">\n",
              "      <th></th>\n",
              "      <th>customerID</th>\n",
              "      <th>gender</th>\n",
              "      <th>SeniorCitizen</th>\n",
              "      <th>Partner</th>\n",
              "      <th>Dependents</th>\n",
              "      <th>tenure</th>\n",
              "      <th>PhoneService</th>\n",
              "      <th>MultipleLines</th>\n",
              "      <th>InternetService</th>\n",
              "      <th>OnlineSecurity</th>\n",
              "      <th>OnlineBackup</th>\n",
              "      <th>DeviceProtection</th>\n",
              "      <th>TechSupport</th>\n",
              "      <th>StreamingTV</th>\n",
              "      <th>StreamingMovies</th>\n",
              "      <th>Contract</th>\n",
              "      <th>PaperlessBilling</th>\n",
              "      <th>PaymentMethod</th>\n",
              "      <th>MonthlyCharges</th>\n",
              "      <th>TotalCharges</th>\n",
              "      <th>Churn</th>\n",
              "    </tr>\n",
              "  </thead>\n",
              "  <tbody>\n",
              "    <tr>\n",
              "      <th>0</th>\n",
              "      <td>7590-VHVEG</td>\n",
              "      <td>Female</td>\n",
              "      <td>0</td>\n",
              "      <td>Yes</td>\n",
              "      <td>No</td>\n",
              "      <td>1</td>\n",
              "      <td>No</td>\n",
              "      <td>No phone service</td>\n",
              "      <td>DSL</td>\n",
              "      <td>No</td>\n",
              "      <td>Yes</td>\n",
              "      <td>No</td>\n",
              "      <td>No</td>\n",
              "      <td>No</td>\n",
              "      <td>No</td>\n",
              "      <td>Month-to-month</td>\n",
              "      <td>Yes</td>\n",
              "      <td>Electronic check</td>\n",
              "      <td>29.85</td>\n",
              "      <td>29.85</td>\n",
              "      <td>No</td>\n",
              "    </tr>\n",
              "    <tr>\n",
              "      <th>1</th>\n",
              "      <td>5575-GNVDE</td>\n",
              "      <td>Male</td>\n",
              "      <td>0</td>\n",
              "      <td>No</td>\n",
              "      <td>No</td>\n",
              "      <td>34</td>\n",
              "      <td>Yes</td>\n",
              "      <td>No</td>\n",
              "      <td>DSL</td>\n",
              "      <td>Yes</td>\n",
              "      <td>No</td>\n",
              "      <td>Yes</td>\n",
              "      <td>No</td>\n",
              "      <td>No</td>\n",
              "      <td>No</td>\n",
              "      <td>One year</td>\n",
              "      <td>No</td>\n",
              "      <td>Mailed check</td>\n",
              "      <td>56.95</td>\n",
              "      <td>1889.5</td>\n",
              "      <td>No</td>\n",
              "    </tr>\n",
              "    <tr>\n",
              "      <th>2</th>\n",
              "      <td>3668-QPYBK</td>\n",
              "      <td>Male</td>\n",
              "      <td>0</td>\n",
              "      <td>No</td>\n",
              "      <td>No</td>\n",
              "      <td>2</td>\n",
              "      <td>Yes</td>\n",
              "      <td>No</td>\n",
              "      <td>DSL</td>\n",
              "      <td>Yes</td>\n",
              "      <td>Yes</td>\n",
              "      <td>No</td>\n",
              "      <td>No</td>\n",
              "      <td>No</td>\n",
              "      <td>No</td>\n",
              "      <td>Month-to-month</td>\n",
              "      <td>Yes</td>\n",
              "      <td>Mailed check</td>\n",
              "      <td>53.85</td>\n",
              "      <td>108.15</td>\n",
              "      <td>Yes</td>\n",
              "    </tr>\n",
              "    <tr>\n",
              "      <th>3</th>\n",
              "      <td>7795-CFOCW</td>\n",
              "      <td>Male</td>\n",
              "      <td>0</td>\n",
              "      <td>No</td>\n",
              "      <td>No</td>\n",
              "      <td>45</td>\n",
              "      <td>No</td>\n",
              "      <td>No phone service</td>\n",
              "      <td>DSL</td>\n",
              "      <td>Yes</td>\n",
              "      <td>No</td>\n",
              "      <td>Yes</td>\n",
              "      <td>Yes</td>\n",
              "      <td>No</td>\n",
              "      <td>No</td>\n",
              "      <td>One year</td>\n",
              "      <td>No</td>\n",
              "      <td>Bank transfer (automatic)</td>\n",
              "      <td>42.30</td>\n",
              "      <td>1840.75</td>\n",
              "      <td>No</td>\n",
              "    </tr>\n",
              "    <tr>\n",
              "      <th>4</th>\n",
              "      <td>9237-HQITU</td>\n",
              "      <td>Female</td>\n",
              "      <td>0</td>\n",
              "      <td>No</td>\n",
              "      <td>No</td>\n",
              "      <td>2</td>\n",
              "      <td>Yes</td>\n",
              "      <td>No</td>\n",
              "      <td>Fiber optic</td>\n",
              "      <td>No</td>\n",
              "      <td>No</td>\n",
              "      <td>No</td>\n",
              "      <td>No</td>\n",
              "      <td>No</td>\n",
              "      <td>No</td>\n",
              "      <td>Month-to-month</td>\n",
              "      <td>Yes</td>\n",
              "      <td>Electronic check</td>\n",
              "      <td>70.70</td>\n",
              "      <td>151.65</td>\n",
              "      <td>Yes</td>\n",
              "    </tr>\n",
              "  </tbody>\n",
              "</table>\n",
              "</div>"
            ],
            "text/plain": [
              "   customerID  gender  SeniorCitizen  ... MonthlyCharges TotalCharges  Churn\n",
              "0  7590-VHVEG  Female              0  ...          29.85        29.85     No\n",
              "1  5575-GNVDE    Male              0  ...          56.95       1889.5     No\n",
              "2  3668-QPYBK    Male              0  ...          53.85       108.15    Yes\n",
              "3  7795-CFOCW    Male              0  ...          42.30      1840.75     No\n",
              "4  9237-HQITU  Female              0  ...          70.70       151.65    Yes\n",
              "\n",
              "[5 rows x 21 columns]"
            ]
          },
          "metadata": {
            "tags": []
          },
          "execution_count": 7
        }
      ]
    },
    {
      "cell_type": "code",
      "metadata": {
        "id": "m_7Nr0Qqp2JL",
        "colab_type": "code",
        "outputId": "72d8fd82-6d74-496b-8c66-8866f7d84531",
        "colab": {
          "base_uri": "https://localhost:8080/",
          "height": 34
        }
      },
      "source": [
        "# Show dimensionality (rows, columns)\n",
        "data.shape"
      ],
      "execution_count": 0,
      "outputs": [
        {
          "output_type": "execute_result",
          "data": {
            "text/plain": [
              "(7043, 21)"
            ]
          },
          "metadata": {
            "tags": []
          },
          "execution_count": 8
        }
      ]
    },
    {
      "cell_type": "markdown",
      "metadata": {
        "id": "c0E6XN-5cNi2",
        "colab_type": "text"
      },
      "source": [
        "7043 data objects with 21 attributes"
      ]
    },
    {
      "cell_type": "code",
      "metadata": {
        "id": "QkAX9rOQqMRj",
        "colab_type": "code",
        "outputId": "eddebe49-60c1-4295-8e9b-fba3297389cf",
        "colab": {
          "base_uri": "https://localhost:8080/",
          "height": 122
        }
      },
      "source": [
        "# List columns\n",
        "data.columns"
      ],
      "execution_count": 0,
      "outputs": [
        {
          "output_type": "execute_result",
          "data": {
            "text/plain": [
              "Index(['customerID', 'gender', 'SeniorCitizen', 'Partner', 'Dependents',\n",
              "       'tenure', 'PhoneService', 'MultipleLines', 'InternetService',\n",
              "       'OnlineSecurity', 'OnlineBackup', 'DeviceProtection', 'TechSupport',\n",
              "       'StreamingTV', 'StreamingMovies', 'Contract', 'PaperlessBilling',\n",
              "       'PaymentMethod', 'MonthlyCharges', 'TotalCharges', 'Churn'],\n",
              "      dtype='object')"
            ]
          },
          "metadata": {
            "tags": []
          },
          "execution_count": 9
        }
      ]
    },
    {
      "cell_type": "code",
      "metadata": {
        "id": "avNsENYLddOu",
        "colab_type": "code",
        "outputId": "68e4c532-5adb-45d2-c5be-10d9d9f97e0f",
        "colab": {
          "base_uri": "https://localhost:8080/",
          "height": 474
        }
      },
      "source": [
        "# Concise summary of a dataframe\n",
        "data.info()"
      ],
      "execution_count": 0,
      "outputs": [
        {
          "output_type": "stream",
          "text": [
            "<class 'pandas.core.frame.DataFrame'>\n",
            "RangeIndex: 7043 entries, 0 to 7042\n",
            "Data columns (total 21 columns):\n",
            "customerID          7043 non-null object\n",
            "gender              7043 non-null object\n",
            "SeniorCitizen       7043 non-null int64\n",
            "Partner             7043 non-null object\n",
            "Dependents          7043 non-null object\n",
            "tenure              7043 non-null int64\n",
            "PhoneService        7043 non-null object\n",
            "MultipleLines       7043 non-null object\n",
            "InternetService     7043 non-null object\n",
            "OnlineSecurity      7043 non-null object\n",
            "OnlineBackup        7043 non-null object\n",
            "DeviceProtection    7043 non-null object\n",
            "TechSupport         7043 non-null object\n",
            "StreamingTV         7043 non-null object\n",
            "StreamingMovies     7043 non-null object\n",
            "Contract            7043 non-null object\n",
            "PaperlessBilling    7043 non-null object\n",
            "PaymentMethod       7043 non-null object\n",
            "MonthlyCharges      7043 non-null float64\n",
            "TotalCharges        7043 non-null object\n",
            "Churn               7043 non-null object\n",
            "dtypes: float64(1), int64(2), object(18)\n",
            "memory usage: 1.1+ MB\n"
          ],
          "name": "stdout"
        }
      ]
    },
    {
      "cell_type": "code",
      "metadata": {
        "id": "w8LgSrhvlPxi",
        "colab_type": "code",
        "outputId": "fcf48351-a9a0-40a3-e82e-af99c000970b",
        "colab": {
          "base_uri": "https://localhost:8080/",
          "height": 669
        }
      },
      "source": [
        "# Missing data\n",
        "total = data.isnull().sum().sort_values(ascending=False)\n",
        "percent = (data.isnull().sum()/data.isnull().count()).sort_values(ascending=False)\n",
        "missing_data = pd.concat([total, percent], axis=1, keys=['Total', 'Percent'])\n",
        "missing_data"
      ],
      "execution_count": 0,
      "outputs": [
        {
          "output_type": "execute_result",
          "data": {
            "text/html": [
              "<div>\n",
              "<style scoped>\n",
              "    .dataframe tbody tr th:only-of-type {\n",
              "        vertical-align: middle;\n",
              "    }\n",
              "\n",
              "    .dataframe tbody tr th {\n",
              "        vertical-align: top;\n",
              "    }\n",
              "\n",
              "    .dataframe thead th {\n",
              "        text-align: right;\n",
              "    }\n",
              "</style>\n",
              "<table border=\"1\" class=\"dataframe\">\n",
              "  <thead>\n",
              "    <tr style=\"text-align: right;\">\n",
              "      <th></th>\n",
              "      <th>Total</th>\n",
              "      <th>Percent</th>\n",
              "    </tr>\n",
              "  </thead>\n",
              "  <tbody>\n",
              "    <tr>\n",
              "      <th>Churn</th>\n",
              "      <td>0</td>\n",
              "      <td>0.0</td>\n",
              "    </tr>\n",
              "    <tr>\n",
              "      <th>OnlineSecurity</th>\n",
              "      <td>0</td>\n",
              "      <td>0.0</td>\n",
              "    </tr>\n",
              "    <tr>\n",
              "      <th>gender</th>\n",
              "      <td>0</td>\n",
              "      <td>0.0</td>\n",
              "    </tr>\n",
              "    <tr>\n",
              "      <th>SeniorCitizen</th>\n",
              "      <td>0</td>\n",
              "      <td>0.0</td>\n",
              "    </tr>\n",
              "    <tr>\n",
              "      <th>Partner</th>\n",
              "      <td>0</td>\n",
              "      <td>0.0</td>\n",
              "    </tr>\n",
              "    <tr>\n",
              "      <th>Dependents</th>\n",
              "      <td>0</td>\n",
              "      <td>0.0</td>\n",
              "    </tr>\n",
              "    <tr>\n",
              "      <th>tenure</th>\n",
              "      <td>0</td>\n",
              "      <td>0.0</td>\n",
              "    </tr>\n",
              "    <tr>\n",
              "      <th>PhoneService</th>\n",
              "      <td>0</td>\n",
              "      <td>0.0</td>\n",
              "    </tr>\n",
              "    <tr>\n",
              "      <th>MultipleLines</th>\n",
              "      <td>0</td>\n",
              "      <td>0.0</td>\n",
              "    </tr>\n",
              "    <tr>\n",
              "      <th>InternetService</th>\n",
              "      <td>0</td>\n",
              "      <td>0.0</td>\n",
              "    </tr>\n",
              "    <tr>\n",
              "      <th>OnlineBackup</th>\n",
              "      <td>0</td>\n",
              "      <td>0.0</td>\n",
              "    </tr>\n",
              "    <tr>\n",
              "      <th>TotalCharges</th>\n",
              "      <td>0</td>\n",
              "      <td>0.0</td>\n",
              "    </tr>\n",
              "    <tr>\n",
              "      <th>DeviceProtection</th>\n",
              "      <td>0</td>\n",
              "      <td>0.0</td>\n",
              "    </tr>\n",
              "    <tr>\n",
              "      <th>TechSupport</th>\n",
              "      <td>0</td>\n",
              "      <td>0.0</td>\n",
              "    </tr>\n",
              "    <tr>\n",
              "      <th>StreamingTV</th>\n",
              "      <td>0</td>\n",
              "      <td>0.0</td>\n",
              "    </tr>\n",
              "    <tr>\n",
              "      <th>StreamingMovies</th>\n",
              "      <td>0</td>\n",
              "      <td>0.0</td>\n",
              "    </tr>\n",
              "    <tr>\n",
              "      <th>Contract</th>\n",
              "      <td>0</td>\n",
              "      <td>0.0</td>\n",
              "    </tr>\n",
              "    <tr>\n",
              "      <th>PaperlessBilling</th>\n",
              "      <td>0</td>\n",
              "      <td>0.0</td>\n",
              "    </tr>\n",
              "    <tr>\n",
              "      <th>PaymentMethod</th>\n",
              "      <td>0</td>\n",
              "      <td>0.0</td>\n",
              "    </tr>\n",
              "    <tr>\n",
              "      <th>MonthlyCharges</th>\n",
              "      <td>0</td>\n",
              "      <td>0.0</td>\n",
              "    </tr>\n",
              "    <tr>\n",
              "      <th>customerID</th>\n",
              "      <td>0</td>\n",
              "      <td>0.0</td>\n",
              "    </tr>\n",
              "  </tbody>\n",
              "</table>\n",
              "</div>"
            ],
            "text/plain": [
              "                  Total  Percent\n",
              "Churn                 0      0.0\n",
              "OnlineSecurity        0      0.0\n",
              "gender                0      0.0\n",
              "SeniorCitizen         0      0.0\n",
              "Partner               0      0.0\n",
              "Dependents            0      0.0\n",
              "tenure                0      0.0\n",
              "PhoneService          0      0.0\n",
              "MultipleLines         0      0.0\n",
              "InternetService       0      0.0\n",
              "OnlineBackup          0      0.0\n",
              "TotalCharges          0      0.0\n",
              "DeviceProtection      0      0.0\n",
              "TechSupport           0      0.0\n",
              "StreamingTV           0      0.0\n",
              "StreamingMovies       0      0.0\n",
              "Contract              0      0.0\n",
              "PaperlessBilling      0      0.0\n",
              "PaymentMethod         0      0.0\n",
              "MonthlyCharges        0      0.0\n",
              "customerID            0      0.0"
            ]
          },
          "metadata": {
            "tags": []
          },
          "execution_count": 11
        }
      ]
    },
    {
      "cell_type": "markdown",
      "metadata": {
        "id": "ivhDv-K4dftk",
        "colab_type": "text"
      },
      "source": [
        "Complete dataframe. No missing data."
      ]
    },
    {
      "cell_type": "code",
      "metadata": {
        "id": "Y2d0aSlnfBdz",
        "colab_type": "code",
        "outputId": "76288719-e1e0-4a67-b37a-3e8737d560a2",
        "colab": {
          "base_uri": "https://localhost:8080/",
          "height": 404
        }
      },
      "source": [
        "# Return the number of distinct observations\n",
        "data.nunique()"
      ],
      "execution_count": 0,
      "outputs": [
        {
          "output_type": "execute_result",
          "data": {
            "text/plain": [
              "customerID          7043\n",
              "gender                 2\n",
              "SeniorCitizen          2\n",
              "Partner                2\n",
              "Dependents             2\n",
              "tenure                73\n",
              "PhoneService           2\n",
              "MultipleLines          3\n",
              "InternetService        3\n",
              "OnlineSecurity         3\n",
              "OnlineBackup           3\n",
              "DeviceProtection       3\n",
              "TechSupport            3\n",
              "StreamingTV            3\n",
              "StreamingMovies        3\n",
              "Contract               3\n",
              "PaperlessBilling       2\n",
              "PaymentMethod          4\n",
              "MonthlyCharges      1585\n",
              "TotalCharges        6531\n",
              "Churn                  2\n",
              "dtype: int64"
            ]
          },
          "metadata": {
            "tags": []
          },
          "execution_count": 12
        }
      ]
    },
    {
      "cell_type": "code",
      "metadata": {
        "id": "9VU0OEh8ehXW",
        "colab_type": "code",
        "colab": {}
      },
      "source": [
        "# Drop customerID \n",
        "df = data.iloc[:,1:]"
      ],
      "execution_count": 0,
      "outputs": []
    },
    {
      "cell_type": "markdown",
      "metadata": {
        "id": "IojyNs2re7sP",
        "colab_type": "text"
      },
      "source": [
        "### Target feature"
      ]
    },
    {
      "cell_type": "code",
      "metadata": {
        "id": "rDF07HFqia7W",
        "colab_type": "code",
        "outputId": "f65ce5f9-c109-4134-9667-efb2c962aeb8",
        "colab": {
          "base_uri": "https://localhost:8080/",
          "height": 70
        }
      },
      "source": [
        "df['Churn'].value_counts()"
      ],
      "execution_count": 0,
      "outputs": [
        {
          "output_type": "execute_result",
          "data": {
            "text/plain": [
              "No     5174\n",
              "Yes    1869\n",
              "Name: Churn, dtype: int64"
            ]
          },
          "metadata": {
            "tags": []
          },
          "execution_count": 15
        }
      ]
    },
    {
      "cell_type": "code",
      "metadata": {
        "id": "3zsLiNoFh-QZ",
        "colab_type": "code",
        "outputId": "ba3798d9-75b4-4f94-c654-bd924b224e86",
        "colab": {
          "base_uri": "https://localhost:8080/",
          "height": 319
        }
      },
      "source": [
        "# Data to plot\n",
        "labels = df['Churn'].value_counts(sort = True).index\n",
        "sizes = df['Churn'].value_counts(sort = True)\n",
        "\n",
        "\n",
        "colors = [\"whitesmoke\",\"red\"]\n",
        "explode = (0.1,0)  # explode 1st slice\n",
        " \n",
        "rcParams['figure.figsize'] = 5,5\n",
        "# Plot\n",
        "plt.pie(sizes, explode=explode, labels=labels, colors=colors,\n",
        "        autopct='%1.1f%%', shadow=True, startangle=270,)\n",
        "\n",
        "plt.title('Percent of churn in customer')\n",
        "plt.show()"
      ],
      "execution_count": 0,
      "outputs": [
        {
          "output_type": "display_data",
          "data": {
            "image/png": "[encoded data removed]",
            "text/plain": [
              "<Figure size 360x360 with 1 Axes>"
            ]
          },
          "metadata": {
            "tags": []
          }
        }
      ]
    },
    {
      "cell_type": "markdown",
      "metadata": {
        "id": "5B3WI27njxSz",
        "colab_type": "text"
      },
      "source": [
        "Churn customer is 26.5%"
      ]
    },
    {
      "cell_type": "markdown",
      "metadata": {
        "id": "NJrqG3ubmc90",
        "colab_type": "text"
      },
      "source": [
        "### Preprocessing"
      ]
    },
    {
      "cell_type": "markdown",
      "metadata": {
        "id": "3vecqywFrYbB",
        "colab_type": "text"
      },
      "source": [
        "#### Churn"
      ]
    },
    {
      "cell_type": "code",
      "metadata": {
        "id": "-hslHIakkV3e",
        "colab_type": "code",
        "colab": {}
      },
      "source": [
        "# 'Yes' -> 1 and 'No' -> 0\n",
        "df['Churn'] = df['Churn'].map(lambda s :1  if s =='Yes' else 0)"
      ],
      "execution_count": 0,
      "outputs": []
    },
    {
      "cell_type": "markdown",
      "metadata": {
        "id": "76KwjAKNrbSm",
        "colab_type": "text"
      },
      "source": [
        "#### Gender"
      ]
    },
    {
      "cell_type": "code",
      "metadata": {
        "id": "jrCsF71npFFA",
        "colab_type": "code",
        "outputId": "d690b897-48ff-4226-ab65-25a7dd6942e0",
        "colab": {
          "base_uri": "https://localhost:8080/",
          "height": 369
        }
      },
      "source": [
        "g = sns.catplot(y = \"Churn\", x = \"gender\", data = df, kind = \"bar\", palette = \"Pastel1\")"
      ],
      "execution_count": 0,
      "outputs": [
        {
          "output_type": "display_data",
          "data": {
            "image/png": "[encoded data removed]",
            "text/plain": [
              "<Figure size 360x360 with 1 Axes>"
            ]
          },
          "metadata": {
            "tags": []
          }
        }
      ]
    },
    {
      "cell_type": "code",
      "metadata": {
        "id": "XDvEaP7Bqc-6",
        "colab_type": "code",
        "outputId": "4ed430b2-e428-4f35-c163-4757a0603583",
        "colab": {
          "base_uri": "https://localhost:8080/",
          "height": 122
        }
      },
      "source": [
        "df['gender'].head()"
      ],
      "execution_count": 0,
      "outputs": [
        {
          "output_type": "execute_result",
          "data": {
            "text/plain": [
              "0    Female\n",
              "1      Male\n",
              "2      Male\n",
              "3      Male\n",
              "4    Female\n",
              "Name: gender, dtype: object"
            ]
          },
          "metadata": {
            "tags": []
          },
          "execution_count": 19
        }
      ]
    },
    {
      "cell_type": "code",
      "metadata": {
        "id": "EG4jceZ_qzm5",
        "colab_type": "code",
        "colab": {}
      },
      "source": [
        "# Create columns: gender_Female and gender_Male\n",
        "df = pd.get_dummies(data=df, columns=['gender'])"
      ],
      "execution_count": 0,
      "outputs": []
    },
    {
      "cell_type": "code",
      "metadata": {
        "id": "QYBCFHEpqtiE",
        "colab_type": "code",
        "outputId": "57460ad3-9831-4b53-c912-027fc57e4547",
        "colab": {
          "base_uri": "https://localhost:8080/",
          "height": 122
        }
      },
      "source": [
        "# Female: 'Yes' -> 1 and 'No' -> 0\n",
        "df['gender_Female'].head()"
      ],
      "execution_count": 0,
      "outputs": [
        {
          "output_type": "execute_result",
          "data": {
            "text/plain": [
              "0    1\n",
              "1    0\n",
              "2    0\n",
              "3    0\n",
              "4    1\n",
              "Name: gender_Female, dtype: uint8"
            ]
          },
          "metadata": {
            "tags": []
          },
          "execution_count": 21
        }
      ]
    },
    {
      "cell_type": "code",
      "metadata": {
        "id": "Sr4btMerwTI5",
        "colab_type": "code",
        "outputId": "d83fa073-b0a7-45e6-eadb-f6846f2a52a6",
        "colab": {
          "base_uri": "https://localhost:8080/",
          "height": 122
        }
      },
      "source": [
        "# Male: 'Yes' -> 1 and 'No' -> 0\n",
        "df['gender_Male'].head()"
      ],
      "execution_count": 0,
      "outputs": [
        {
          "output_type": "execute_result",
          "data": {
            "text/plain": [
              "0    0\n",
              "1    1\n",
              "2    1\n",
              "3    1\n",
              "4    0\n",
              "Name: gender_Male, dtype: uint8"
            ]
          },
          "metadata": {
            "tags": []
          },
          "execution_count": 22
        }
      ]
    },
    {
      "cell_type": "markdown",
      "metadata": {
        "id": "JxtVkZKBwqiX",
        "colab_type": "text"
      },
      "source": [
        "#### SeniorCitizen"
      ]
    },
    {
      "cell_type": "code",
      "metadata": {
        "id": "hG3l0fYdwuri",
        "colab_type": "code",
        "outputId": "8ce57c3e-fa18-4d81-9c98-a0438f1d6617",
        "colab": {
          "base_uri": "https://localhost:8080/",
          "height": 70
        }
      },
      "source": [
        "# The customer is a senior citizen or not (1, 0)\n",
        "df['SeniorCitizen'].value_counts()"
      ],
      "execution_count": 0,
      "outputs": [
        {
          "output_type": "execute_result",
          "data": {
            "text/plain": [
              "0    5901\n",
              "1    1142\n",
              "Name: SeniorCitizen, dtype: int64"
            ]
          },
          "metadata": {
            "tags": []
          },
          "execution_count": 23
        }
      ]
    },
    {
      "cell_type": "code",
      "metadata": {
        "id": "smmwlHNcyzsh",
        "colab_type": "code",
        "colab": {}
      },
      "source": [
        "sc = sns.catplot(y = \"Churn\", x = \"SeniorCitizen\", data = df, kind = \"bar\", palette = \"Pastel1\")"
      ],
      "execution_count": 0,
      "outputs": []
    },
    {
      "cell_type": "markdown",
      "metadata": {
        "id": "wv-ZLc2TxMkz",
        "colab_type": "text"
      },
      "source": [
        "#### Partner"
      ]
    },
    {
      "cell_type": "code",
      "metadata": {
        "id": "scUTyS-pxQ4w",
        "colab_type": "code",
        "colab": {}
      },
      "source": [
        "# The customer has a partner or not (Yes, No)\n",
        "data['Partner'].value_counts()"
      ],
      "execution_count": 0,
      "outputs": []
    },
    {
      "cell_type": "code",
      "metadata": {
        "id": "jcJ3rAgT0Pnq",
        "colab_type": "code",
        "colab": {}
      },
      "source": [
        "# 'Yes' -> 1 and 'No' -> 0\n",
        "data['Partner'] = data['Partner'].map(lambda s :1  if s =='Yes' else 0)"
      ],
      "execution_count": 0,
      "outputs": []
    },
    {
      "cell_type": "code",
      "metadata": {
        "id": "mFGj96ZB0bOs",
        "colab_type": "code",
        "colab": {}
      },
      "source": [
        "data['Partner'].value_counts()"
      ],
      "execution_count": 0,
      "outputs": []
    },
    {
      "cell_type": "code",
      "metadata": {
        "id": "xVA-ZxsX0rFp",
        "colab_type": "code",
        "colab": {}
      },
      "source": [
        "p = sns.catplot(y=\"Churn\", x=\"Partner\", data=data, kind=\"bar\", palette=\"muted\")"
      ],
      "execution_count": 0,
      "outputs": []
    },
    {
      "cell_type": "markdown",
      "metadata": {
        "id": "qOZT3ZHD2Y1e",
        "colab_type": "text"
      },
      "source": [
        "#### Dependents, PhoneService, PaperlessBilling, OnlineSecurity, DeviceProtection, TechSupport, StreamingTV, StreamingMovies"
      ]
    },
    {
      "cell_type": "code",
      "metadata": {
        "id": "47JnIqtj2Xqn",
        "colab_type": "code",
        "colab": {}
      },
      "source": [
        "data['Dependents'] = data['Dependents'].map(lambda s :1  if s =='Yes' else 0)\n",
        "data['PhoneService'] = data['PhoneService'].map(lambda s :1  if s =='Yes' else 0)\n",
        "data['PaperlessBilling'] = data['PaperlessBilling'].map(lambda s :1  if s =='Yes' else 0)\n",
        "data['OnlineSecurity'] = data['OnlineSecurity'].map(lambda s :1  if s =='Yes' else 0)\n",
        "data['OnlineBackup'] = data['OnlineBackup'].map(lambda s :1  if s =='Yes' else 0)\n",
        "data['DeviceProtection'] = data['DeviceProtection'].map(lambda s :1  if s =='Yes' else 0)\n",
        "data['TechSupport'] = data['TechSupport'].map(lambda s :1  if s =='Yes' else 0)\n",
        "data['StreamingTV'] = data['StreamingTV'].map(lambda s :1  if s =='Yes' else 0)\n",
        "data['StreamingMovies'] = data['StreamingMovies'].map(lambda s :1  if s =='Yes' else 0)"
      ],
      "execution_count": 0,
      "outputs": []
    },
    {
      "cell_type": "markdown",
      "metadata": {
        "id": "g3a82lvZ36nD",
        "colab_type": "text"
      },
      "source": [
        "#### Tenure"
      ]
    },
    {
      "cell_type": "code",
      "metadata": {
        "id": "Fv6GXn8a38l1",
        "colab_type": "code",
        "colab": {}
      },
      "source": [
        "data['tenure'].head()"
      ],
      "execution_count": 0,
      "outputs": []
    },
    {
      "cell_type": "code",
      "metadata": {
        "id": "A_DBu-07voqp",
        "colab_type": "code",
        "colab": {}
      },
      "source": [
        "ax = sns.distplot(data['tenure'], hist=True, kde=False, \n",
        "             bins=int(180/5), color = 'darkblue', \n",
        "             hist_kws={'edgecolor':'black'},\n",
        "             kde_kws={'linewidth': 4})\n",
        "ax.set_ylabel('# of Customers')\n",
        "ax.set_xlabel('Tenure (months)')\n",
        "ax.set_title('# of Customers by their tenure')"
      ],
      "execution_count": 0,
      "outputs": []
    },
    {
      "cell_type": "code",
      "metadata": {
        "id": "lI5muUdl4HTd",
        "colab_type": "code",
        "colab": {}
      },
      "source": [
        "# tenure distibution related to Churn\n",
        "t = sns.kdeplot(data.tenure[(data[\"Churn\"] == 0) ], color=\"Blue\", shade = True)\n",
        "t = sns.kdeplot(data.tenure[(data[\"Churn\"] == 1) ], ax =t, color=\"Red\", shade= True)\n",
        "t.set_xlabel(\"tenure\")\n",
        "t.set_ylabel(\"Frequency\")\n",
        "plt.title('Distribution of tenure comparing with churn feature')\n",
        "t = t.legend([\"Not Churn\",\"Churn\"])"
      ],
      "execution_count": 0,
      "outputs": []
    },
    {
      "cell_type": "code",
      "metadata": {
        "id": "sh-S6F5_yFBh",
        "colab_type": "code",
        "colab": {}
      },
      "source": [
        "# Churn vs tenure\n",
        "sns.boxplot(x = data['Churn'], y = data['tenure'])"
      ],
      "execution_count": 0,
      "outputs": []
    },
    {
      "cell_type": "markdown",
      "metadata": {
        "id": "1x2BkXJcBP6d",
        "colab_type": "text"
      },
      "source": [
        "#### MultipleLines"
      ]
    },
    {
      "cell_type": "code",
      "metadata": {
        "id": "xlUmJh-dBVO-",
        "colab_type": "code",
        "colab": {}
      },
      "source": [
        "data['MultipleLines'].value_counts()"
      ],
      "execution_count": 0,
      "outputs": []
    },
    {
      "cell_type": "code",
      "metadata": {
        "id": "4h5PFH1_FbzT",
        "colab_type": "code",
        "colab": {}
      },
      "source": [
        "# To be just binary values, 'No phone service' will be treated as 'No'\n",
        "\n",
        "data['MultipleLines'].replace('No phone service','No', inplace=True)\n",
        "data['MultipleLines'] = data['MultipleLines'].map(lambda s :1  if s =='Yes' else 0)\n",
        "data['MultipleLines'].value_counts()"
      ],
      "execution_count": 0,
      "outputs": []
    },
    {
      "cell_type": "markdown",
      "metadata": {
        "id": "E-kaL3WbL6cO",
        "colab_type": "text"
      },
      "source": [
        "#### InternetService"
      ]
    },
    {
      "cell_type": "code",
      "metadata": {
        "id": "EnNIuZIxFUX_",
        "colab_type": "code",
        "colab": {}
      },
      "source": [
        "data['InternetService'].unique()"
      ],
      "execution_count": 0,
      "outputs": []
    },
    {
      "cell_type": "code",
      "metadata": {
        "id": "x6s2g1mWPEqo",
        "colab_type": "code",
        "colab": {}
      },
      "source": [
        "# To create a binary column is necessary: \n",
        "# 1) divide the InternetService into 3 columns: internetService; internetDSL; internetFiber_optic\n",
        "# 2) drop InternetService column\n",
        "\n",
        "data['internetService'] = data['InternetService'].map(lambda s :0  if s =='No' else 1)\n",
        "data['internetFiber_optic'] = data['InternetService'].map(lambda s :1  if s =='Fiber optic' else 0)\n",
        "data['internetDSL'] = data['InternetService'].map(lambda s :1  if s =='DSL' else 0)\n",
        "\n",
        "data.drop(['InternetService'], axis=1, inplace=True)"
      ],
      "execution_count": 0,
      "outputs": []
    },
    {
      "cell_type": "code",
      "metadata": {
        "id": "mCVW_r44ZvSq",
        "colab_type": "code",
        "colab": {}
      },
      "source": [
        "print(data['internetService'].value_counts())\n",
        "print(data['internetFiber_optic'].value_counts())\n",
        "print(data['internetDSL'].value_counts())"
      ],
      "execution_count": 0,
      "outputs": []
    },
    {
      "cell_type": "markdown",
      "metadata": {
        "id": "LpaDBXXhbUCK",
        "colab_type": "text"
      },
      "source": [
        "#### Contract"
      ]
    },
    {
      "cell_type": "code",
      "metadata": {
        "id": "gnKiad4IdhKh",
        "colab_type": "code",
        "colab": {}
      },
      "source": [
        "data['Contract'].value_counts()"
      ],
      "execution_count": 0,
      "outputs": []
    },
    {
      "cell_type": "code",
      "metadata": {
        "id": "PvyxMGHDwS5b",
        "colab_type": "code",
        "colab": {}
      },
      "source": [
        "c = data['Contract'].value_counts().plot(kind = 'bar',rot = 0, width = 0.3)\n",
        "c.set_ylabel('# of Customers')\n",
        "c.set_title('# of Customers by Contract Type')"
      ],
      "execution_count": 0,
      "outputs": []
    },
    {
      "cell_type": "markdown",
      "metadata": {
        "id": "2SqOIpjAwx2C",
        "colab_type": "text"
      },
      "source": [
        "Most of the customers are in the month to month contract. "
      ]
    },
    {
      "cell_type": "code",
      "metadata": {
        "id": "DFjzI5XkdoJK",
        "colab_type": "code",
        "colab": {}
      },
      "source": [
        "# Use pandas function \"get_dummies\" for this feature\n",
        "data = pd.get_dummies(data=data, columns=['Contract'])"
      ],
      "execution_count": 0,
      "outputs": []
    },
    {
      "cell_type": "code",
      "metadata": {
        "id": "Exq1JCYOfPE3",
        "colab_type": "code",
        "colab": {}
      },
      "source": [
        "data[['Contract_Month-to-month','Contract_One year', 'Contract_Two year']].head()"
      ],
      "execution_count": 0,
      "outputs": []
    },
    {
      "cell_type": "markdown",
      "metadata": {
        "id": "WREQG40CdF4H",
        "colab_type": "text"
      },
      "source": [
        "#### PaymentMethod"
      ]
    },
    {
      "cell_type": "code",
      "metadata": {
        "id": "wNGC0WGIbYVx",
        "colab_type": "code",
        "colab": {}
      },
      "source": [
        "data['PaymentMethod'].value_counts()"
      ],
      "execution_count": 0,
      "outputs": []
    },
    {
      "cell_type": "code",
      "metadata": {
        "id": "but5D3Qmdov5",
        "colab_type": "code",
        "colab": {}
      },
      "source": [
        "data = pd.get_dummies(data=data, columns=['PaymentMethod'])"
      ],
      "execution_count": 0,
      "outputs": []
    },
    {
      "cell_type": "code",
      "metadata": {
        "id": "n3KzF3P6fB4j",
        "colab_type": "code",
        "colab": {}
      },
      "source": [
        "data[['PaymentMethod_Bank transfer (automatic)',\n",
        "      'PaymentMethod_Credit card (automatic)',\n",
        "      'PaymentMethod_Electronic check',\n",
        "      'PaymentMethod_Mailed check']].head()"
      ],
      "execution_count": 0,
      "outputs": []
    },
    {
      "cell_type": "markdown",
      "metadata": {
        "id": "AOq9xM8oilyz",
        "colab_type": "text"
      },
      "source": [
        "#### MonthlyCharges"
      ]
    },
    {
      "cell_type": "code",
      "metadata": {
        "id": "iCw-wjMripYs",
        "colab_type": "code",
        "colab": {}
      },
      "source": [
        "# Numeric feature\n",
        "data['MonthlyCharges'].head()"
      ],
      "execution_count": 0,
      "outputs": []
    },
    {
      "cell_type": "code",
      "metadata": {
        "id": "dtTHfgtUmUHU",
        "colab_type": "code",
        "colab": {}
      },
      "source": [
        "mc = sns.factorplot(x=\"Churn\", y = \"MonthlyCharges\",data = data, kind=\"box\", palette = \"Pastel1\")"
      ],
      "execution_count": 0,
      "outputs": []
    },
    {
      "cell_type": "markdown",
      "metadata": {
        "id": "IgUV88f_mq3q",
        "colab_type": "text"
      },
      "source": [
        "#### TotalCharges"
      ]
    },
    {
      "cell_type": "code",
      "metadata": {
        "id": "YYQpoUtXmuRC",
        "colab_type": "code",
        "colab": {}
      },
      "source": [
        "# Object type\n",
        "data['TotalCharges'].head()"
      ],
      "execution_count": 0,
      "outputs": []
    },
    {
      "cell_type": "code",
      "metadata": {
        "id": "ATuxroB4o_pv",
        "colab_type": "code",
        "colab": {}
      },
      "source": [
        "# 11 missing data in dataset, turn all the column an object type \n",
        "len(data[data['TotalCharges'] == \" \"])"
      ],
      "execution_count": 0,
      "outputs": []
    },
    {
      "cell_type": "code",
      "metadata": {
        "id": "EhI3FQHmpI0j",
        "colab_type": "code",
        "colab": {}
      },
      "source": [
        "# Drop missing data\n",
        "data = data[data['TotalCharges'] != \" \"]"
      ],
      "execution_count": 0,
      "outputs": []
    },
    {
      "cell_type": "code",
      "metadata": {
        "id": "wRiZcXPwp_kt",
        "colab_type": "code",
        "colab": {}
      },
      "source": [
        "# Change column type\n",
        "data['TotalCharges'] = pd.to_numeric(data['TotalCharges'])"
      ],
      "execution_count": 0,
      "outputs": []
    },
    {
      "cell_type": "code",
      "metadata": {
        "id": "0IILPMl5qbnm",
        "colab_type": "code",
        "colab": {}
      },
      "source": [
        "# Check column type\n",
        "data['TotalCharges'].dtypes"
      ],
      "execution_count": 0,
      "outputs": []
    },
    {
      "cell_type": "code",
      "metadata": {
        "id": "fqrNoCkByEgM",
        "colab_type": "code",
        "colab": {}
      },
      "source": [
        "tc = sns.factorplot(y=\"TotalCharges\",x=\"Churn\",data=data,kind=\"boxen\", palette = \"Pastel2\")"
      ],
      "execution_count": 0,
      "outputs": []
    },
    {
      "cell_type": "markdown",
      "metadata": {
        "id": "_h1-0zuRybTN",
        "colab_type": "text"
      },
      "source": [
        "Most of churn customer has less than 2000 in total charge.\n",
        "The loyalty customer is around twice as amount as churn customer."
      ]
    },
    {
      "cell_type": "code",
      "metadata": {
        "id": "4NSxzcknxkPT",
        "colab_type": "code",
        "colab": {}
      },
      "source": [
        "# 'MonthlyCharges' x 'TotalCharges'\n",
        "data[['MonthlyCharges', 'TotalCharges']].plot.scatter(x = 'MonthlyCharges',\n",
        "                                                              y='TotalCharges')"
      ],
      "execution_count": 0,
      "outputs": []
    },
    {
      "cell_type": "code",
      "metadata": {
        "id": "mBFVxW3ZGG79",
        "colab_type": "code",
        "colab": {}
      },
      "source": [
        "data.info()"
      ],
      "execution_count": 0,
      "outputs": []
    },
    {
      "cell_type": "code",
      "metadata": {
        "id": "ffKsS4MlWrZL",
        "colab_type": "code",
        "colab": {}
      },
      "source": [
        "# Correlation of \"Churn\" with other variables:\n",
        "plt.figure(figsize=(15,8))\n",
        "data.corr()['Churn'].sort_values(ascending = False).plot(kind='bar')"
      ],
      "execution_count": 0,
      "outputs": []
    },
    {
      "cell_type": "markdown",
      "metadata": {
        "id": "jRdWXk-KbbTb",
        "colab_type": "text"
      },
      "source": [
        "The 3 biggest correlations (non-causalities) with respect to 'Churn' are 'Contract_Month-to-month', 'internetFiber_optic' and 'PaymentMethod_Eletronic check'"
      ]
    },
    {
      "cell_type": "markdown",
      "metadata": {
        "id": "RyN18Lavuv46",
        "colab_type": "text"
      },
      "source": [
        ""
      ]
    },
    {
      "cell_type": "markdown",
      "metadata": {
        "id": "jMwwXOHizNsF",
        "colab_type": "text"
      },
      "source": [
        "### Model"
      ]
    },
    {
      "cell_type": "markdown",
      "metadata": {
        "id": "XyDsmtP5NiIi",
        "colab_type": "text"
      },
      "source": [
        "#### Logistic regression"
      ]
    },
    {
      "cell_type": "code",
      "metadata": {
        "id": "RP1K1ZMxzQik",
        "colab_type": "code",
        "colab": {}
      },
      "source": [
        "y = data['Churn'].values \n",
        "X = data.drop(columns = ['Churn'])"
      ],
      "execution_count": 0,
      "outputs": []
    },
    {
      "cell_type": "code",
      "metadata": {
        "id": "TTAsOXSq3lie",
        "colab_type": "code",
        "colab": {}
      },
      "source": [
        "# Scaling all the variables to a range of 0 to 1\n",
        "from sklearn.preprocessing import MinMaxScaler\n",
        "features = X.columns.values\n",
        "scaler = MinMaxScaler(feature_range = (0,1))\n",
        "scaler.fit(X)\n",
        "X = pd.DataFrame(scaler.transform(X))\n",
        "X.columns = features"
      ],
      "execution_count": 0,
      "outputs": []
    },
    {
      "cell_type": "markdown",
      "metadata": {
        "id": "IxfRV2XI30FT",
        "colab_type": "text"
      },
      "source": [
        "It is important to scale the variables in logistic regression so that all of them are within a range of 0 to 1. This helped me improve the accuracy from 79.7% to 80.7%. Further, you will notice below that the importance of variables is also aligned with what we are seeing in Random Forest algorithm and the EDA we conducted above."
      ]
    },
    {
      "cell_type": "code",
      "metadata": {
        "id": "A3XBjH-P3mkX",
        "colab_type": "code",
        "colab": {}
      },
      "source": [
        "# Create Train & Test Data\n",
        "from sklearn.model_selection import train_test_split\n",
        "X_train, X_test, y_train, y_test = train_test_split(X, y, test_size=0.2, random_state=123)"
      ],
      "execution_count": 0,
      "outputs": []
    },
    {
      "cell_type": "code",
      "metadata": {
        "id": "brtHBvsd4NpF",
        "colab_type": "code",
        "colab": {}
      },
      "source": [
        "# Running logistic regression model\n",
        "from sklearn.linear_model import LogisticRegression\n",
        "model = LogisticRegression()\n",
        "result = model.fit(X_train, y_train)"
      ],
      "execution_count": 0,
      "outputs": []
    },
    {
      "cell_type": "code",
      "metadata": {
        "id": "WBM9UQLT4STn",
        "colab_type": "code",
        "colab": {}
      },
      "source": [
        "from sklearn import metrics\n",
        "prediction_test = model.predict(X_test)\n",
        "# Print the prediction accuracy\n",
        "print (metrics.accuracy_score(y_test, prediction_test))"
      ],
      "execution_count": 0,
      "outputs": []
    },
    {
      "cell_type": "code",
      "metadata": {
        "id": "RcsgDOfS4nvy",
        "colab_type": "code",
        "colab": {}
      },
      "source": [
        "# To get the weights of all the variables\n",
        "weights = pd.Series(model.coef_[0],\n",
        "                 index=X.columns.values)\n",
        "print (weights.sort_values(ascending = False)[:10].plot(kind='bar'))"
      ],
      "execution_count": 0,
      "outputs": []
    },
    {
      "cell_type": "code",
      "metadata": {
        "id": "YyDXTyjv5fDD",
        "colab_type": "code",
        "colab": {}
      },
      "source": [
        "print(weights.sort_values(ascending = False)[-10:].plot(kind='bar'))"
      ],
      "execution_count": 0,
      "outputs": []
    },
    {
      "cell_type": "markdown",
      "metadata": {
        "id": "x1c0QUt1557s",
        "colab_type": "text"
      },
      "source": [
        "We can see that some variables have a negative relation to our predicted variable (Churn), while some have positive relation. Negative relation means that likeliness of churn decreases with that variable. Let us summarize some of the interesting features below:\n",
        "\n",
        ". As we saw in our EDA, having a 2 month contract reduces chances of churn. 2 month contract along with tenure have the most negative relation with Churn as predicted by logistic regressions\n",
        "\n",
        ". Having DSL internet service also reduces the proability of Churn\n",
        "\n",
        ". Lastly, total charges, monthly contracts, fibre optic internet services and seniority can lead to higher churn rates. This is interesting because although fibre optic services are faster, customers are likely to churn because of it. I think we need to explore more to better understad why this is happening.\n",
        "\n",
        "Any hypothesis on the above would be really helpful!"
      ]
    },
    {
      "cell_type": "markdown",
      "metadata": {
        "id": "ljmyolYS2TXB",
        "colab_type": "text"
      },
      "source": [
        "#### Random forest"
      ]
    },
    {
      "cell_type": "code",
      "metadata": {
        "id": "_P_iqktMn_rN",
        "colab_type": "code",
        "colab": {}
      },
      "source": [
        "from sklearn.ensemble import RandomForestClassifier\n",
        "X_train, X_test, y_train, y_test = train_test_split(X, y, test_size=0.2, random_state=123)\n",
        "model_rf = RandomForestClassifier(n_estimators=1000 , oob_score = True, n_jobs = -1,\n",
        "                                  random_state =50, max_features = \"auto\",\n",
        "                                  max_leaf_nodes = 30)\n",
        "model_rf.fit(X_train, y_train)\n",
        "\n",
        "# Make predictions\n",
        "prediction_test = model_rf.predict(X_test)\n",
        "print (metrics.accuracy_score(y_test, prediction_test))"
      ],
      "execution_count": 0,
      "outputs": []
    },
    {
      "cell_type": "code",
      "metadata": {
        "id": "jXhK8Ij25FH_",
        "colab_type": "code",
        "colab": {}
      },
      "source": [
        "importances = model_rf.feature_importances_\n",
        "weights = pd.Series(importances,\n",
        "                 index=X.columns.values)\n",
        "weights.sort_values()[-10:].plot(kind = 'barh')"
      ],
      "execution_count": 0,
      "outputs": []
    },
    {
      "cell_type": "markdown",
      "metadata": {
        "id": "UCZIBhzf6u3B",
        "colab_type": "text"
      },
      "source": [
        "Observations:\n",
        "\n",
        ". From random forest algorithm, monthly contract, tenure and total charges are the most important predictor variables to predict churn.\n",
        "\n",
        ". The results from random forest are very similar to that of the logistic regression and in line to what we had expected from our EDA"
      ]
    },
    {
      "cell_type": "markdown",
      "metadata": {
        "id": "F2rOjUSY60Mu",
        "colab_type": "text"
      },
      "source": [
        "#### Support Vector Machine (SVM)"
      ]
    },
    {
      "cell_type": "code",
      "metadata": {
        "id": "8ihQ5K7E6-dE",
        "colab_type": "code",
        "colab": {}
      },
      "source": [
        "X_train, X_test, y_train, y_test = train_test_split(X, y, test_size=0.2, random_state=99)"
      ],
      "execution_count": 0,
      "outputs": []
    },
    {
      "cell_type": "code",
      "metadata": {
        "id": "Fw3RhqBeCGJI",
        "colab_type": "code",
        "colab": {}
      },
      "source": [
        "from sklearn.svm import SVC\n",
        "\n",
        "model.svm = SVC(kernel='linear') \n",
        "model.svm.fit(X_train,y_train)\n",
        "preds = model.svm.predict(X_test)\n",
        "metrics.accuracy_score(y_test, preds)"
      ],
      "execution_count": 0,
      "outputs": []
    },
    {
      "cell_type": "code",
      "metadata": {
        "id": "-vGrbcQ0CbLD",
        "colab_type": "code",
        "colab": {}
      },
      "source": [
        "# Create the Confusion matrix\n",
        "from sklearn.metrics import classification_report, confusion_matrix  \n",
        "print(confusion_matrix(y_test,preds))  "
      ],
      "execution_count": 0,
      "outputs": []
    },
    {
      "cell_type": "markdown",
      "metadata": {
        "id": "4hAl5-MFClQE",
        "colab_type": "text"
      },
      "source": [
        "Wth SVM I was able to increase the accuracy to upto 82%. However, we need to take a deeper look at the true positive and true negative rates, including the Area Under the Curve (AUC) for a better prediction."
      ]
    },
    {
      "cell_type": "code",
      "metadata": {
        "id": "-g0vQy6LCz4O",
        "colab_type": "code",
        "colab": {}
      },
      "source": [
        "# alter dataframe data to make this code work: there is no 'gender' column\n",
        "ax1 = sns.catplot(x=data[\"gender\"], kind=\"count\", hue=\"Churn\", data=data,\n",
        "                  estimator=lambda x: sum(x==0)*100.0/len(x))\n",
        "#ax1.yaxis.set_major_formatter(mtick.PercentFormatter())"
      ],
      "execution_count": 0,
      "outputs": []
    },
    {
      "cell_type": "markdown",
      "metadata": {
        "id": "hBPZChwzDkGI",
        "colab_type": "text"
      },
      "source": [
        "#### ADA Boost"
      ]
    },
    {
      "cell_type": "code",
      "metadata": {
        "id": "pY1pEGiNDmcV",
        "colab_type": "code",
        "colab": {}
      },
      "source": [
        "# AdaBoost Algorithm\n",
        "from sklearn.ensemble import AdaBoostClassifier\n",
        "model = AdaBoostClassifier()\n",
        "# n_estimators = 50 (default value) \n",
        "# base_estimator = DecisionTreeClassifier (default value)\n",
        "model.fit(X_train,y_train)\n",
        "preds = model.predict(X_test)\n",
        "metrics.accuracy_score(y_test, preds)"
      ],
      "execution_count": 0,
      "outputs": []
    },
    {
      "cell_type": "markdown",
      "metadata": {
        "id": "Gkirol1hDueZ",
        "colab_type": "text"
      },
      "source": [
        "#### XG Boost"
      ]
    },
    {
      "cell_type": "code",
      "metadata": {
        "id": "i8ENmY02Dw9t",
        "colab_type": "code",
        "colab": {}
      },
      "source": [
        "from xgboost import XGBClassifier\n",
        "model = XGBClassifier()\n",
        "model.fit(X_train, y_train)\n",
        "preds = model.predict(X_test)\n",
        "metrics.accuracy_score(y_test, preds)"
      ],
      "execution_count": 0,
      "outputs": []
    },
    {
      "cell_type": "markdown",
      "metadata": {
        "id": "ytOO4DoKrrqT",
        "colab_type": "text"
      },
      "source": [
        "MELHORAR..."
      ]
    },
    {
      "cell_type": "code",
      "metadata": {
        "id": "C0YBhg78ErJQ",
        "colab_type": "code",
        "colab": {}
      },
      "source": [
        "from sklearn.ensemble import RandomForestClassifier\n",
        "from sklearn.model_selection import  cross_val_score,GridSearchCV\n",
        "\n",
        "Rfclf = RandomForestClassifier(random_state=15)\n",
        "Rfclf.fit(X_train, y_train)"
      ],
      "execution_count": 0,
      "outputs": []
    },
    {
      "cell_type": "code",
      "metadata": {
        "id": "BU1KVznuE2kM",
        "colab_type": "code",
        "colab": {}
      },
      "source": [
        "# 10 Folds Cross Validation \n",
        "clf_score = cross_val_score(Rfclf, X_train, y_train, cv=10)\n",
        "print(clf_score)\n",
        "clf_score.mean()"
      ],
      "execution_count": 0,
      "outputs": []
    },
    {
      "cell_type": "markdown",
      "metadata": {
        "id": "jnnEolo2FBaY",
        "colab_type": "text"
      },
      "source": [
        "My default random forest get around 78% accuracy from cross-validation"
      ]
    },
    {
      "cell_type": "code",
      "metadata": {
        "id": "VwTJ-D3LFCZ7",
        "colab_type": "code",
        "colab": {}
      },
      "source": [
        "%%time\n",
        "param_grid  = { \n",
        "                'n_estimators' : [500,1200],\n",
        "               # 'min_samples_split': [2,5,10,15,100],\n",
        "               # 'min_samples_leaf': [1,2,5,10],\n",
        "                'max_depth': range(1,5,2),\n",
        "                'max_features' : ('log2', 'sqrt'),\n",
        "                'class_weight':[{1: w} for w in [1,1.5]]\n",
        "              }\n",
        "\n",
        "GridRF = GridSearchCV(RandomForestClassifier(random_state=15), param_grid)\n",
        "\n",
        "GridRF.fit(X_train, y_train)\n",
        "#RF_preds = GridRF.predict_proba(X_test)[:, 1]\n",
        "#RF_performance = roc_auc_score(Y_test, RF_preds)\n",
        "\n",
        "print(\n",
        "    #'DecisionTree: Area under the ROC curve = {}'.format(RF_performance)\n",
        "     \"\\nBest parameters \\n\" + str(GridRF.best_params_))"
      ],
      "execution_count": 0,
      "outputs": []
    },
    {
      "cell_type": "code",
      "metadata": {
        "id": "LkBgwd3WFdkV",
        "colab_type": "code",
        "colab": {}
      },
      "source": [
        "rf = RandomForestClassifier(random_state=15,**GridRF.best_params_)\n",
        "rf.fit(X_train, y_train)"
      ],
      "execution_count": 0,
      "outputs": []
    },
    {
      "cell_type": "code",
      "metadata": {
        "id": "SFdqJxXwFju_",
        "colab_type": "code",
        "colab": {}
      },
      "source": [
        "# 10 Folds Cross Validation \n",
        "clf_score = cross_val_score(rf, X_train, y_train, cv=10)\n",
        "print(clf_score)\n",
        "clf_score.mean()\n",
        "    "
      ],
      "execution_count": 0,
      "outputs": []
    },
    {
      "cell_type": "markdown",
      "metadata": {
        "id": "HtIYxAyyFycW",
        "colab_type": "text"
      },
      "source": [
        "My grid-search random forest get around 80% accuracy from cross-validation,\n",
        "a little bit improve from default parameter"
      ]
    },
    {
      "cell_type": "markdown",
      "metadata": {
        "id": "K_OSIXYmF8mz",
        "colab_type": "text"
      },
      "source": [
        "Feature importances\n",
        "\n",
        "another advantage from rule-based model"
      ]
    },
    {
      "cell_type": "code",
      "metadata": {
        "id": "pgq85HmiFsrH",
        "colab_type": "code",
        "colab": {}
      },
      "source": [
        "Rfclf_fea = pd.DataFrame(rf.feature_importances_)\n",
        "Rfclf_fea[\"Feature\"] = list(X_train) \n",
        "Rfclf_fea.sort_values(by=0, ascending=False).head()"
      ],
      "execution_count": 0,
      "outputs": []
    },
    {
      "cell_type": "code",
      "metadata": {
        "id": "NSEgm4tcGT5C",
        "colab_type": "code",
        "colab": {}
      },
      "source": [
        "g = sns.barplot(0,\"Feature\",data = Rfclf_fea.sort_values(by=0, ascending=False)[0:5], palette=\"Pastel1\",orient = \"h\")\n",
        "g.set_xlabel(\"Weight\")\n",
        "g = g.set_title(\"Random Forest\")"
      ],
      "execution_count": 0,
      "outputs": []
    },
    {
      "cell_type": "markdown",
      "metadata": {
        "id": "a1DAKq1xGhZQ",
        "colab_type": "text"
      },
      "source": [
        "Confusion Matrix\n",
        "\n",
        "also known as an error matrix, it is a specific table layout that allows visualization of the performance of an algorithm"
      ]
    },
    {
      "cell_type": "code",
      "metadata": {
        "id": "00KUbzEDGjar",
        "colab_type": "code",
        "colab": {}
      },
      "source": [
        "from sklearn.metrics import confusion_matrix\n",
        "\n",
        "y_pred = rf.predict(X_train)\n",
        "\n",
        "print(confusion_matrix(y_train, y_pred))"
      ],
      "execution_count": 0,
      "outputs": []
    },
    {
      "cell_type": "markdown",
      "metadata": {
        "id": "odOMvXc9G1pg",
        "colab_type": "text"
      },
      "source": [
        "!!!!!!!!!!!!!! estudar matriz de confusão e interpretar esse valor"
      ]
    },
    {
      "cell_type": "code",
      "metadata": {
        "id": "jkQXwy06G_cI",
        "colab_type": "code",
        "colab": {}
      },
      "source": [
        "from sklearn.metrics import classification_report\n",
        "\n",
        "print(classification_report( y_train, y_pred))"
      ],
      "execution_count": 0,
      "outputs": []
    },
    {
      "cell_type": "markdown",
      "metadata": {
        "id": "eMTrSnESIQE8",
        "colab_type": "text"
      },
      "source": [
        ""
      ]
    }
  ]
}